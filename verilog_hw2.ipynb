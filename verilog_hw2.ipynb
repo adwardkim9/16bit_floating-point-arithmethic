{
 "cells": [
  {
   "cell_type": "markdown",
   "id": "7735ca3b-a517-4112-9187-618d9c390802",
   "metadata": {
    "jp-MarkdownHeadingCollapsed": true,
    "tags": []
   },
   "source": [
    "## 32bit IEEE-754"
   ]
  },
  {
   "cell_type": "code",
   "execution_count": 4,
   "id": "d5988de3-611f-42f8-a24d-847e00473d33",
   "metadata": {
    "tags": []
   },
   "outputs": [],
   "source": [
    "import struct\n",
    "\n",
    "def float_to_bin(number, precision='single'):\n",
    "    if precision == 'single':\n",
    "        # Single precision (32-bit)\n",
    "        packed = struct.pack('>f', number)\n",
    "        bits = 32\n",
    "    elif precision == 'double':\n",
    "        # Double precision (64-bit)\n",
    "        packed = struct.pack('>d', number)\n",
    "        bits = 64\n",
    "    else:\n",
    "        raise ValueError(\"Precision must be 'single' or 'double'\")\n",
    "    \n",
    "    # Convert the packed float to binary\n",
    "    binary_rep = ''.join(f'{byte:08b}' for byte in packed)\n",
    "    return binary_rep"
   ]
  },
  {
   "cell_type": "code",
   "execution_count": 5,
   "id": "62488f67-de76-4d0c-ba0b-021b3c4b3628",
   "metadata": {
    "tags": []
   },
   "outputs": [
    {
     "name": "stdout",
     "output_type": "stream",
     "text": [
      "IEEE-754 (32-bit) of 3.14: 01000000010010001111010111000011\n"
     ]
    }
   ],
   "source": [
    "# Example usage:\n",
    "number = 3.14\n",
    "binary_single = float_to_bin(number, precision='single')\n",
    "# binary_double = float_to_bin(number, precision='double')\n",
    "\n",
    "print(f\"IEEE-754 (32-bit) of {number}: {binary_single}\")\n",
    "# print(f\"IEEE-754 (64-bit) of {number}: {binary_double}\")"
   ]
  },
  {
   "cell_type": "markdown",
   "id": "6fdf99de-7858-4575-a407-1a6cf86faf2d",
   "metadata": {},
   "source": [
    "## Custom 16bit IEEE-754"
   ]
  },
  {
   "cell_type": "code",
   "execution_count": 54,
   "id": "5e6e0113-e4e5-42ce-9e0f-9096adca0cc3",
   "metadata": {
    "tags": []
   },
   "outputs": [],
   "source": [
    "def func1(num,exp_len,fract_len):\n",
    "    int_part = int(abs(num))\n",
    "    fract_part = abs(num) - int_part\n",
    "    \n",
    "    # Sign\n",
    "    if(num>0): \n",
    "        sign_part = ['0']\n",
    "    elif(num<0):\n",
    "        sign_part = ['1']\n",
    "    \n",
    "    # Exponents\n",
    "    binary_rep = bin(int_part).lstrip('0b') or '0'\n",
    "    exp = len(binary_rep) - binary_rep.find('1') -1\n",
    "    \n",
    "    exp_part = [bin(exp + 2**(exp_len-1)-1).lstrip('0b') or '0']\n",
    "    \n",
    "    # Convert fractional part to binary\n",
    "    fractional_binary = []\n",
    "    while fract_part:\n",
    "        fract_part *= 2\n",
    "        bit = int(fract_part)\n",
    "        if bit == 1:\n",
    "            fract_part -= bit\n",
    "            fractional_binary.append('1')\n",
    "        else:\n",
    "            fractional_binary.append('0')\n",
    "        if len(fractional_binary) > fract_len-exp-1:  # Limit length to prevent infinite loop\n",
    "            break\n",
    "    fract_string = ''.join(map(str, fractional_binary))\n",
    "    \n",
    "    fract_result = binary_rep[len(binary_rep)-exp: ]+fract_string\n",
    "    fract_ls = [fract_result]\n",
    "    return ''.join(sign_part) +''.join(exp_part) + ''.join(fract_ls)"
   ]
  },
  {
   "cell_type": "code",
   "execution_count": 55,
   "id": "321ebc75-6c65-441a-a46f-7c6b9f2e71a3",
   "metadata": {
    "tags": []
   },
   "outputs": [
    {
     "data": {
      "text/plain": [
       "'01000001010101110011001100110011'"
      ]
     },
     "execution_count": 55,
     "metadata": {},
     "output_type": "execute_result"
    }
   ],
   "source": [
    "func1(13.45,8,23)"
   ]
  },
  {
   "cell_type": "code",
   "execution_count": 56,
   "id": "ca151012-a9d5-4452-bf92-f3639c3325cd",
   "metadata": {
    "tags": []
   },
   "outputs": [
    {
     "data": {
      "text/plain": [
       "'0100101010111001'"
      ]
     },
     "execution_count": 56,
     "metadata": {},
     "output_type": "execute_result"
    }
   ],
   "source": [
    "func1(13.45,5,10)"
   ]
  }
 ],
 "metadata": {
  "kernelspec": {
   "display_name": "Python 3 (ipykernel)",
   "language": "python",
   "name": "python3"
  },
  "language_info": {
   "codemirror_mode": {
    "name": "ipython",
    "version": 3
   },
   "file_extension": ".py",
   "mimetype": "text/x-python",
   "name": "python",
   "nbconvert_exporter": "python",
   "pygments_lexer": "ipython3",
   "version": "3.8.18"
  }
 },
 "nbformat": 4,
 "nbformat_minor": 5
}
